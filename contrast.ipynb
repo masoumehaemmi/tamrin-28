{
 "cells": [
  {
   "cell_type": "code",
   "execution_count": null,
   "id": "697eb4a9-84fb-44ee-b501-87af17ab6a32",
   "metadata": {},
   "outputs": [],
   "source": []
  },
  {
   "cell_type": "code",
   "execution_count": 21,
   "id": "eb3e98a3-9d45-434b-85d4-814bb88f1229",
   "metadata": {},
   "outputs": [],
   "source": [
    "import cv2\n",
    "import numpy as np\n",
    "import time\n",
    "import matplotlib.pyplot as plt"
   ]
  },
  {
   "cell_type": "code",
   "execution_count": 86,
   "id": "e7a91a7a-9146-47de-8582-b93a3afec6cd",
   "metadata": {},
   "outputs": [],
   "source": [
    "img = cv2.imread(\"tree.jpg\")\n",
    "img = cv2.cvtColor(img, cv2.COLOR_BGR2GRAY)\n",
    "\n",
    "alpha =0.6\n",
    "beta = -15\n",
    "\n",
    "adjust=cv2.convertScaleAbs(img, alpha=alpha, beta=beta)\n",
    "\n"
   ]
  },
  {
   "cell_type": "code",
   "execution_count": 87,
   "id": "df49d757-92c7-4429-a1a0-3ecb062ebc9b",
   "metadata": {},
   "outputs": [
    {
     "data": {
      "text/plain": [
       "True"
      ]
     },
     "execution_count": 87,
     "metadata": {},
     "output_type": "execute_result"
    }
   ],
   "source": [
    "cv2.imwrite(\"tree123.jpg\",adjust)"
   ]
  },
  {
   "cell_type": "code",
   "execution_count": null,
   "id": "072af13b-6cc2-46f4-81e9-7ae115996a14",
   "metadata": {},
   "outputs": [],
   "source": []
  },
  {
   "cell_type": "code",
   "execution_count": null,
   "id": "c89983f1-aaf4-41eb-8cb8-9b6d362f8eef",
   "metadata": {},
   "outputs": [],
   "source": []
  },
  {
   "cell_type": "code",
   "execution_count": null,
   "id": "1971e78b-9e4d-4e98-a6fe-acf688e017b5",
   "metadata": {},
   "outputs": [],
   "source": []
  }
 ],
 "metadata": {
  "kernelspec": {
   "display_name": "Python 3 (ipykernel)",
   "language": "python",
   "name": "python3"
  },
  "language_info": {
   "codemirror_mode": {
    "name": "ipython",
    "version": 3
   },
   "file_extension": ".py",
   "mimetype": "text/x-python",
   "name": "python",
   "nbconvert_exporter": "python",
   "pygments_lexer": "ipython3",
   "version": "3.8.9"
  }
 },
 "nbformat": 4,
 "nbformat_minor": 5
}
