{
 "cells": [
  {
   "cell_type": "code",
   "execution_count": 1,
   "id": "d1e32985-f86c-4811-8848-5ccc321160a1",
   "metadata": {},
   "outputs": [],
   "source": [
    "import cv2\n",
    "import random\n",
    "import math\n"
   ]
  },
  {
   "cell_type": "code",
   "execution_count": 2,
   "id": "b26bc2b6-2a2a-48bb-a101-50a7c17ae1b6",
   "metadata": {},
   "outputs": [],
   "source": [
    "img=cv2.imread(\"R.jpg\")\n",
    "img= cv2.resize(img,None,fx=0.23 ,fy=0.23)\n",
    "output= \"python/tamrin 26/snowgif/\"\n",
    "snow_day = img.copy()\n",
    "rows,cols, _ = img.shape\n",
    "\n",
    "\n"
   ]
  },
  {
   "cell_type": "code",
   "execution_count": 3,
   "id": "2c0c9819-52c3-4678-b5ac-4a3ca1cc4534",
   "metadata": {},
   "outputs": [],
   "source": [
    "class snowflake:\n",
    "    def __init__(self,x,y):\n",
    "        self.x=0\n",
    "        self.y=0\n",
    "        self.color=WHITE\n",
    "        self.size = random.randrange(0,5)\n",
    "        self.speed = random.randrange(2,5,6)\n",
    "    def reset_pos(self):\n",
    "        self.y= random.randrange(0,img.shape[1])\n",
    "        self.x= random.randrange(0,img.shape[0])\n",
    "    def move(self):\n",
    "        self.move_x=0\n",
    "        self.move_y=0\n",
    "        self.x+=self.move_x\n",
    "        self.y+=self.move_y"
   ]
  },
  {
   "cell_type": "code",
   "execution_count": 7,
   "id": "5da9388c-e1dd-4a50-87b9-fde3024b3547",
   "metadata": {},
   "outputs": [
    {
     "name": "stdout",
     "output_type": "stream",
     "text": [
      "[]\n"
     ]
    },
    {
     "ename": "AttributeError",
     "evalue": "'int' object has no attribute 'move'",
     "output_type": "error",
     "traceback": [
      "\u001b[1;31m---------------------------------------------------------------------------\u001b[0m",
      "\u001b[1;31mAttributeError\u001b[0m                            Traceback (most recent call last)",
      "\u001b[1;32m~\\AppData\\Local\\Temp/ipykernel_5736/2354940505.py\u001b[0m in \u001b[0;36m<module>\u001b[1;34m\u001b[0m\n\u001b[0;32m      8\u001b[0m \u001b[1;33m\u001b[0m\u001b[0m\n\u001b[0;32m      9\u001b[0m \u001b[1;32mfor\u001b[0m \u001b[0mi\u001b[0m\u001b[1;33m,\u001b[0m\u001b[0ms\u001b[0m \u001b[1;32min\u001b[0m \u001b[0menumerate\u001b[0m\u001b[1;33m(\u001b[0m\u001b[0msnow\u001b[0m\u001b[1;33m)\u001b[0m\u001b[1;33m:\u001b[0m\u001b[1;33m\u001b[0m\u001b[1;33m\u001b[0m\u001b[0m\n\u001b[1;32m---> 10\u001b[1;33m     \u001b[0mi\u001b[0m\u001b[1;33m.\u001b[0m\u001b[0mmove\u001b[0m\u001b[1;33m(\u001b[0m\u001b[1;33m)\u001b[0m\u001b[1;33m\u001b[0m\u001b[1;33m\u001b[0m\u001b[0m\n\u001b[0m\u001b[0;32m     11\u001b[0m     \u001b[0mimg\u001b[0m\u001b[1;33m=\u001b[0m\u001b[0msnow_day\u001b[0m\u001b[1;33m.\u001b[0m\u001b[0mcopy\u001b[0m\u001b[1;33m(\u001b[0m\u001b[1;33m)\u001b[0m\u001b[1;33m\u001b[0m\u001b[1;33m\u001b[0m\u001b[0m\n\u001b[0;32m     12\u001b[0m     \u001b[0mcv2\u001b[0m\u001b[1;33m.\u001b[0m\u001b[0mimwrite\u001b[0m\u001b[1;33m(\u001b[0m\u001b[1;34mf\"{output}{c}.png\"\u001b[0m\u001b[1;33m,\u001b[0m\u001b[0mimg\u001b[0m\u001b[1;33m)\u001b[0m\u001b[1;33m\u001b[0m\u001b[1;33m\u001b[0m\u001b[0m\n",
      "\u001b[1;31mAttributeError\u001b[0m: 'int' object has no attribute 'move'"
     ]
    }
   ],
   "source": [
    "snow=[]\n",
    "c = 10\n",
    "print(snow)\n",
    "for i in range(37):\n",
    "    snow=[random.randint(0,rows),random.randint(0,cols),random.randint(1,3)]\n",
    "    snow.append(snow)\n",
    "    cv2.circle(img,(snow[1],snow[0]),snow[2],(255,255,255),-1)\n",
    "    \n",
    "for i,s in enumerate(snow):\n",
    "    i.move()\n",
    "    img=snow_day.copy()\n",
    "    cv2.imwrite(f\"{output}{c}.png\",img)\n",
    "    \n",
    "img.sort()\n",
    "frames=[]\n",
    "\n",
    "for i in range(img):\n",
    "    new_frame = img.open(i)\n",
    "    frames.append(new_frame)\n",
    "\n",
    "frames[0].save(f\"{output}png_to_gif.gif\",format=\"GIF\",new_img=frames[1:],save_all=True,loop=0)\n"
   ]
  },
  {
   "cell_type": "code",
   "execution_count": null,
   "id": "802c8aae-cd1d-4be5-9a0b-db1b17735a04",
   "metadata": {},
   "outputs": [],
   "source": []
  }
 ],
 "metadata": {
  "kernelspec": {
   "display_name": "Python 3 (ipykernel)",
   "language": "python",
   "name": "python3"
  },
  "language_info": {
   "codemirror_mode": {
    "name": "ipython",
    "version": 3
   },
   "file_extension": ".py",
   "mimetype": "text/x-python",
   "name": "python",
   "nbconvert_exporter": "python",
   "pygments_lexer": "ipython3",
   "version": "3.8.9"
  }
 },
 "nbformat": 4,
 "nbformat_minor": 5
}
