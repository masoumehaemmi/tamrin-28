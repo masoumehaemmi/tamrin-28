{
 "cells": [
  {
   "cell_type": "code",
   "execution_count": 1,
   "id": "72c0d7a1-5d1f-43e0-9481-796a0e264896",
   "metadata": {},
   "outputs": [],
   "source": [
    "import cv2\n",
    "import numpy as np"
   ]
  },
  {
   "cell_type": "code",
   "execution_count": null,
   "id": "02e17ec2-0394-4776-a356-95491b41cdc0",
   "metadata": {},
   "outputs": [],
   "source": [
    "video_cap = cv2.VideoCapture(0)\n",
    "\n",
    "while True:\n",
    "    ret , frame = video_cap.read()\n",
    "    frame= cv2.cvtColor (frame,cv2.COLOR_BGR2GRAY)\n",
    "    \n",
    "    capture = frame[190:300,270:390]\n",
    "    \n",
    "    alpha = 1.5\n",
    "    \n",
    "    beta = 0\n",
    "    \n",
    "    if ret== False:\n",
    "        break\n",
    "        \n",
    "    mask = np.ones((40,40),np.float32)/1600\n",
    "    \n",
    "    result = cv2.filter2D(frame, -1 ,mask)\n",
    "    \n",
    "    cv2.rectangle(frame,(270,180),(390,300),(0,0,0,),2)\n",
    "    result[190:300,270:390] = capture\n",
    "    detect_area = cv2.convertScaleAbs(result[190:300,270:390], alpha= alpha, beta=beta)\n",
    "    result[190:300,270:390]= detect_area\n",
    "    \n",
    "    if  0 < np.average(detect_area) <= 60:\n",
    "        cv2.putText(result, \"Black\", (25, 50), cv2.FONT_HERSHEY_PLAIN,3, (0, 0, 0),3) \n",
    "    elif 60 < np.average(detect_area) <= 120:\n",
    "        cv2.putText(result, \"Gray\", (25, 50), cv2.FONT_HERSHEY_PLAIN,3, (0, 0, 0),3)\n",
    "    else:\n",
    "        cv2.putText(result, \"White\", (25, 50), cv2.FONT_HERSHEY_PLAIN,3, (0, 0, 0),3) \n",
    "    \n",
    "    cv2.imshow(\"blur\", result)\n",
    "    cv2.waitKey()"
   ]
  },
  {
   "cell_type": "code",
   "execution_count": null,
   "id": "2e7410d2-7f25-4191-8e9e-6f6a56bd80c7",
   "metadata": {},
   "outputs": [],
   "source": []
  },
  {
   "cell_type": "code",
   "execution_count": null,
   "id": "9798a5b8-c661-4676-beda-c2698fb44b69",
   "metadata": {},
   "outputs": [],
   "source": []
  }
 ],
 "metadata": {
  "kernelspec": {
   "display_name": "Python 3 (ipykernel)",
   "language": "python",
   "name": "python3"
  },
  "language_info": {
   "codemirror_mode": {
    "name": "ipython",
    "version": 3
   },
   "file_extension": ".py",
   "mimetype": "text/x-python",
   "name": "python",
   "nbconvert_exporter": "python",
   "pygments_lexer": "ipython3",
   "version": "3.8.9"
  }
 },
 "nbformat": 4,
 "nbformat_minor": 5
}
